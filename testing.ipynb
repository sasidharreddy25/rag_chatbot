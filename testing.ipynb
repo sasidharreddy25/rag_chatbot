{
 "cells": [
  {
   "cell_type": "code",
   "execution_count": 1,
   "metadata": {},
   "outputs": [
    {
     "name": "stderr",
     "output_type": "stream",
     "text": [
      "c:\\Users\\sasidharreddy\\anaconda3\\envs\\testDocker\\lib\\site-packages\\pinecone\\data\\index.py:1: TqdmWarning: IProgress not found. Please update jupyter and ipywidgets. See https://ipywidgets.readthedocs.io/en/stable/user_install.html\n",
      "  from tqdm.autonotebook import tqdm\n"
     ]
    }
   ],
   "source": [
    "from rag_pipeline import TextProcessor, RAG\n",
    "from config import OPENAI_KEY, MODEL_NAME, EMBEDDING_MODEL_NAME, INDEX_NAME, PINECONE_API_KEY, AZURE_ENDPOINT, AZURE_OPENAI_VERSION"
   ]
  },
  {
   "cell_type": "code",
   "execution_count": 2,
   "metadata": {},
   "outputs": [],
   "source": [
    "#initialize the processing class\n",
    "text_processor=TextProcessor(chunk_size=1000, chunk_overlap=100)"
   ]
  },
  {
   "cell_type": "code",
   "execution_count": 3,
   "metadata": {},
   "outputs": [],
   "source": [
    "#Initialize the RAG Class\n",
    "AZURE_OPENAI_TYPE=\"openai\" # Incase of azure openai use 'azure_openai'.\n",
    "rag_obj=RAG(INDEX_NAME, text_processor, PINECONE_API_KEY, MODEL_NAME, EMBEDDING_MODEL_NAME, OPENAI_KEY, AZURE_ENDPOINT, AZURE_OPENAI_VERSION, AZURE_OPENAI_TYPE)"
   ]
  },
  {
   "cell_type": "code",
   "execution_count": 4,
   "metadata": {},
   "outputs": [],
   "source": [
    "queries=questions = [\n",
    "    \"What is the name of the company?\",\n",
    "    \"Who is the CEO of the company?\",\n",
    "    \"What is their vacation policy?\",\n",
    "    \"What is the termination policy?\",\n",
    "    \"What is paid time off?\",\n",
    "    \"tell me about workers compensation insurance?\",\n",
    "    \"Brief me on califonia policies\",\n",
    "    \"Who is Sachin Tendulkar?\",\n",
    "]\n",
    "\n",
    "pdf_file_path=\"handbook.pdf\""
   ]
  },
  {
   "cell_type": "code",
   "execution_count": 5,
   "metadata": {},
   "outputs": [],
   "source": [
    "qna_pairs=await rag_obj.qna(queries, pdf_file_path)"
   ]
  },
  {
   "cell_type": "code",
   "execution_count": 6,
   "metadata": {},
   "outputs": [
    {
     "data": {
      "text/plain": [
       "{'What is the name of the company?': 'The name of the company is Zania, Inc.',\n",
       " 'Who is the CEO of the company?': 'The CEO of the company is Shruti Gupta.',\n",
       " 'What is their vacation policy?': 'According to the context, employees may not carry over unused vacation to the following year, and any unused vacation will be forfeited on or about their anniversary date or at the end of the calendar/fiscal year. Upon separation of employment for any reason, employees will forfeit any earned but unused vacation time unless state law dictates otherwise.',\n",
       " 'What is the termination policy?': 'The termination policy states that employment is on an \"at-will\" basis, meaning it can be terminated at any time, with or without notice and with or without cause. The specific terms of the employment relationship, including termination procedures, are governed by the laws of the state in which the employee is employed. Additionally, the company is not obligated to follow any disciplinary or grievance procedure, and an employee may be disciplined or terminated without prior warning or procedure.',\n",
       " 'What is paid time off?': 'Paid Time Off (PTO) is a benefit provided by Zania, Inc. that allows employees to take time off with pay. PTO may be used for vacation, sick time, or other personal matters.',\n",
       " 'tell me about workers compensation insurance?': \"Workers' compensation insurance is a no-fault system designed to provide benefits to all employees for work-related injuries. It is paid for by employers and governed by state law. The system provides coverage for medical treatment and expenses, occupational disability leave, and rehabilitation services.\",\n",
       " 'Brief me on califonia policies': 'The California policies section includes the following topics:\\n\\n1. Accommodations for Victims of Crime or Abuse\\n2. Disability Accommodation\\n3. EEO Statement and Nonharassment Policy\\n4. Religious Accommodation\\n\\nFor more detailed information, please refer to the specific sections in the handbook.',\n",
       " 'Who is Sachin Tendulkar?': 'Sorry, this information is out of my uploaded knowledge base, Please ask queries from Uploaded Documents.'}"
      ]
     },
     "execution_count": 6,
     "metadata": {},
     "output_type": "execute_result"
    }
   ],
   "source": [
    "qna_pairs"
   ]
  },
  {
   "cell_type": "code",
   "execution_count": null,
   "metadata": {},
   "outputs": [],
   "source": []
  },
  {
   "cell_type": "code",
   "execution_count": null,
   "metadata": {},
   "outputs": [],
   "source": []
  }
 ],
 "metadata": {
  "kernelspec": {
   "display_name": "Python 3",
   "language": "python",
   "name": "python3"
  },
  "language_info": {
   "codemirror_mode": {
    "name": "ipython",
    "version": 3
   },
   "file_extension": ".py",
   "mimetype": "text/x-python",
   "name": "python",
   "nbconvert_exporter": "python",
   "pygments_lexer": "ipython3",
   "version": "3.8.16"
  }
 },
 "nbformat": 4,
 "nbformat_minor": 2
}
